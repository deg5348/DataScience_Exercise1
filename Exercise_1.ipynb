{
 "cells": [
  {
   "cell_type": "markdown",
   "metadata": {},
   "source": [
    "In the first exercise, you will design a small road network in SUMO according to specific requirements and then define a particular demand for the network. Using the SUMO config files, you will bring together the road network and traffic demand into a simulation. With the help of a Python script, you will start the simulation and extract macroscopic traffic information from it.\n",
    "\n",
    "At the beginning, enter your name and student number in the next cell and execute it. Subsequently, your individual task will be generated.\n",
    "\n",
    "The exercise is considered passed if at least 10 out of the 12 sub-tasks are successfully implemented."
   ]
  },
  {
   "cell_type": "code",
   "execution_count": 1,
   "metadata": {},
   "outputs": [
    {
     "name": "stdout",
     "output_type": "stream",
     "text": [
      "\n",
      "    Your task in the first exercise will be to define a traffic network with 4 intersections/nodes (1),\n",
      "    the edges between the nodes must have a length of 150 meters (2). All edges should be\n",
      "    drivable in both directions, and have 2 lanes per direction (3). Within the\n",
      "    traffic network, it is not possible to turn. This means that at the intersections it is not possible to turn\n",
      "    left or right (4).\n",
      "\n",
      "    The intersections are equipped with traffic lights for traffic control (5). Each edge must turn green once during the phase cycle\n",
      "    and each phase is followed by a corresponding yellow phase and a red phase of at least 3\n",
      "    seconds each (6). In total, each traffic light must have a cycle time of 120 seconds (7).\n",
      "\n",
      "    Further define a traffic demand of a total of 50 vehicles. A vehicle should start every 2 seconds in the simulation (8). The vehicles should\n",
      "    start alternately at the outer edges of the traffic network in a clockwise direction (9).\n",
      "\n",
      "    Then enable the simulation of the traffic demand within the traffic network using a\n",
      "    SUMO config file (10).\n",
      "\n",
      "    To determine the macroscopic traffic size - average traffic density per edge - continue to create a\n",
      "    Python script that conducts the simulation (11).\n",
      "    Use traci within the script to determine the macroscopic traffic size\n",
      "    - average traffic density per edge - during the simulation (12). Use this Jupyter Notebook and the already prepared next cell for this.\n",
      "\n",
      "\n",
      "     \n"
     ]
    }
   ],
   "source": [
    "from aufg import *\n",
    "\n",
    "Name = 'Debanil Guha' \n",
    "Matrikelnummer = 157433\n",
    "\n",
    "generate_aufgabe(Matrikelnummer)"
   ]
  },
  {
   "cell_type": "markdown",
   "metadata": {},
   "source": [
    "### Check the Os Path that SUMO and its files are existing"
   ]
  },
  {
   "cell_type": "code",
   "execution_count": 2,
   "metadata": {},
   "outputs": [
    {
     "name": "stdout",
     "output_type": "stream",
     "text": [
      "SUMO environment variables in .zshrc: True\n"
     ]
    }
   ],
   "source": [
    "import os\n",
    "home_dir = os.path.expanduser(\"~\")\n",
    "zshrc_path = os.path.join(home_dir, \".zshrc\")\n",
    "bashrc_path = os.path.join(home_dir, \".bashrc\")\n",
    "def check_os_env_in_file(file_path):\n",
    "    if os.path.exists(file_path):\n",
    "        with open(file_path, \"r\") as f:\n",
    "            content = f.read()\n",
    "            if \"SUMO_HOME\" in content or \"SUMO_GUI\" in content:\n",
    "                return True\n",
    "    return False\n",
    "\n",
    "zshrc_has_os = check_os_env_in_file(zshrc_path)\n",
    "\n",
    "print(f\"SUMO environment variables in .zshrc: {zshrc_has_os}\")"
   ]
  },
  {
   "cell_type": "code",
   "execution_count": 3,
   "metadata": {},
   "outputs": [
    {
     "name": "stdout",
     "output_type": "stream",
     "text": [
      "SUMO_HOME: /Users/debanilguha/sumo\n",
      "SUMO_GUI: $SUMO_HOME/bin\n"
     ]
    }
   ],
   "source": [
    "# Read environment variables from ~/.zshrc and set them in os.environ\n",
    "if os.path.exists(zshrc_path):\n",
    "    with open(zshrc_path, \"r\") as f:\n",
    "        for line in f:\n",
    "            if line.startswith(\"export \"):\n",
    "                parts = line.strip().split()\n",
    "                if len(parts) == 2 and \"=\" in parts[1]:\n",
    "                    key, value = parts[1].split(\"=\", 1)\n",
    "                    key = key.strip()\n",
    "                    value = value.strip().strip('\"').strip(\"'\")\n",
    "                    os.environ[key] = value\n",
    "print(\"SUMO_HOME:\", os.environ.get('SUMO_HOME'))\n",
    "print(\"SUMO_GUI:\", os.environ.get('SUMO_GUI'))"
   ]
  },
  {
   "cell_type": "code",
   "execution_count": null,
   "metadata": {},
   "outputs": [],
   "source": []
  },
  {
   "cell_type": "code",
   "execution_count": 4,
   "metadata": {},
   "outputs": [
    {
     "name": "stdout",
     "output_type": "stream",
     "text": [
      "zsh:1: command not found: pip\n"
     ]
    }
   ],
   "source": [
    "!pip install traci"
   ]
  },
  {
   "cell_type": "code",
   "execution_count": null,
   "metadata": {},
   "outputs": [
    {
     "name": "stdout",
     "output_type": "stream",
     "text": [
      " Retrying in 1 seconds\n",
      "Junctions in the network: ['J1', 'J2', 'J3', 'J4']\n",
      "Waiting for simulation to finish...Close the GUI to stop it.\n",
      "Simulation finished. \n",
      "Densities per edge:\n",
      "Density on edge :J1_0: 22.78 cars/m\n",
      "Density on edge :J1_1: 34.58 cars/m\n",
      "Density on edge :J1_2: 21.25 cars/m\n",
      "Density on edge :J1_3: 26.46 cars/m\n",
      "Density on edge :J2_0: 36.11 cars/m\n",
      "Density on edge :J2_1: 27.92 cars/m\n",
      "Density on edge :J2_2: 9.86 cars/m\n",
      "Density on edge :J2_3: 35.35 cars/m\n",
      "Density on edge :J3_0: 35.14 cars/m\n",
      "Density on edge :J3_1: 9.79 cars/m\n",
      "Density on edge :J3_2: 18.06 cars/m\n",
      "Density on edge :J3_3: 22.15 cars/m\n",
      "Density on edge :J4_0: 16.39 cars/m\n",
      "Density on edge :J4_1: 17.85 cars/m\n",
      "Density on edge :J4_2: 14.31 cars/m\n",
      "Density on edge :J4_3: 10.35 cars/m\n",
      "Density on edge E1_2: 59.36 cars/m\n",
      "Density on edge E1_3: 73.64 cars/m\n",
      "Density on edge E2_1: 82.16 cars/m\n",
      "Density on edge E2_4: 26.81 cars/m\n",
      "Density on edge E3_1: 44.42 cars/m\n",
      "Density on edge E3_4: 11.06 cars/m\n",
      "Density on edge E4_2: 14.02 cars/m\n",
      "Density on edge E4_3: 14.49 cars/m\n",
      "Density on edge EJ1_N1: 17.08 cars/m\n",
      "Density on edge EJ1_N2: 9.63 cars/m\n",
      "Density on edge EJ2_N3: 19.49 cars/m\n",
      "Density on edge EJ2_N4: 8.32 cars/m\n",
      "Density on edge EJ3_N5: 8.50 cars/m\n",
      "Density on edge EJ3_N6: 17.94 cars/m\n",
      "Density on edge EJ4_N7: 10.28 cars/m\n",
      "Density on edge EJ4_N8: 14.11 cars/m\n",
      "Density on edge EN1_J1: 65.00 cars/m\n",
      "Density on edge EN2_J1: 57.45 cars/m\n",
      "Density on edge EN3_J2: 109.21 cars/m\n",
      "Density on edge EN4_J2: 81.57 cars/m\n",
      "Density on edge EN5_J3: 78.15 cars/m\n",
      "Density on edge EN6_J3: 54.00 cars/m\n",
      "Density on edge EN7_J4: 50.40 cars/m\n",
      "Density on edge EN8_J4: 40.14 cars/m\n"
     ]
    }
   ],
   "source": [
    "from sumolib import checkBinary\n",
    "import os\n",
    "import traci\n",
    "import sys\n",
    "import pandas as pd\n",
    "\n",
    "\n",
    "\n",
    "if 'SUMO_HOME' in os.environ:\n",
    "    tools = os.path.join(os.environ['SUMO_HOME'], 'tools')\n",
    "    sys.path.append(tools)\n",
    "else:\n",
    "    sys.exit(\"please declare environment variable 'SUMO_HOME'\")\n",
    "\n",
    "\n",
    "if 'SUMO_GUI' in os.environ:\n",
    "    sumogui = os.path.join(os.environ['SUMO_HOME'], 'bin','sumo-gui')\n",
    "else:\n",
    "    sumogui = os.path.join('/Users/debanilguha/sumo', 'tools', 'sumo-gui')\n",
    "    sys.exit(\"please declare environment variable 'SUMO_GUI'\")\n",
    "\n",
    "\n",
    "\n",
    "def run():\n",
    "    edges = traci.edge.getIDList()\n",
    "    densities = {e: 0 for e in edges}\n",
    "    while traci.simulation.getTime() < 1000:\n",
    "        traci.simulationStep()\n",
    "        # Calculate density for each edge\n",
    "        for edge in edges:\n",
    "            cars_on_edge = traci.edge.getLastStepVehicleNumber(edge)\n",
    "            edge_length = traci.lane.getLength(edge+'_0')  # Get actual edge length\n",
    "            density = cars_on_edge / edge_length if edge_length > 0 else 0  # cars per meter\n",
    "            densities[edge] += density\n",
    "    print(\"Waiting for simulation to finish...Close the GUI to stop it.\")\n",
    "    traci.close()\n",
    "    print(\"Simulation finished.\",\"\\nDensities per edge:\")\n",
    "    # Convert densities dictionary to DataFrame\n",
    "    df_density = pd.DataFrame(dict([(k, pd.Series(v)) for k, v in densities.items()]))\n",
    "    # Density based\n",
    "    for e in edges:\n",
    "        print(f\"Density on edge {e}: {densities[e]:.2f} cars/m\")\n",
    "\n",
    "if __name__ == \"__main__\":\n",
    "    sumoBinary = checkBinary(sumogui)\n",
    "    traci.start([sumoBinary, \"-c\", \"./sumo_conf_files/network.sumocfg\"]) #Restart Kernel if you get an error here\n",
    "        \n",
    "    run()"
   ]
  }
 ],
 "metadata": {
  "kernelspec": {
   "display_name": ".venv",
   "language": "python",
   "name": "python3"
  },
  "language_info": {
   "codemirror_mode": {
    "name": "ipython",
    "version": 3
   },
   "file_extension": ".py",
   "mimetype": "text/x-python",
   "name": "python",
   "nbconvert_exporter": "python",
   "pygments_lexer": "ipython3",
   "version": "3.13.0"
  }
 },
 "nbformat": 4,
 "nbformat_minor": 4
}
