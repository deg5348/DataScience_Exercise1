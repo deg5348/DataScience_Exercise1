{
 "cells": [
  {
   "cell_type": "markdown",
   "metadata": {},
   "source": [
    "In the first exercise, you will design a small road network in SUMO according to specific requirements and then define a particular demand for the network. Using the SUMO config files, you will bring together the road network and traffic demand into a simulation. With the help of a Python script, you will start the simulation and extract macroscopic traffic information from it.\n",
    "\n",
    "At the beginning, enter your name and student number in the next cell and execute it. Subsequently, your individual task will be generated.\n",
    "\n",
    "The exercise is considered passed if at least 10 out of the 12 sub-tasks are successfully implemented."
   ]
  },
  {
   "cell_type": "code",
   "execution_count": 1,
   "metadata": {},
   "outputs": [
    {
     "name": "stderr",
     "output_type": "stream",
     "text": [
      "C:\\Users\\gerner\\Anaconda3\\lib\\site-packages\\numpy\\_distributor_init.py:30: UserWarning: loaded more than 1 DLL from .libs:\n",
      "C:\\Users\\gerner\\Anaconda3\\lib\\site-packages\\numpy\\.libs\\libopenblas.PYQHXLVVQ7VESDPUVUADXEVJOBGHJPAY.gfortran-win_amd64.dll\n",
      "C:\\Users\\gerner\\Anaconda3\\lib\\site-packages\\numpy\\.libs\\libopenblas.WCDJNK7YVMPZQ2ME2ZZHJJRJ3JIKNDB7.gfortran-win_amd64.dll\n",
      "  warnings.warn(\"loaded more than 1 DLL from .libs:\"\n"
     ]
    },
    {
     "name": "stdout",
     "output_type": "stream",
     "text": [
      "\n",
      "    Your task in the first exercise will be to define a traffic network with 4 intersections/nodes (1),\n",
      "    the edges between the nodes must have a length of 200 meters (2). All edges should be\n",
      "    drivable in both directions, and have 2 lanes per direction (3). Within the\n",
      "    traffic network, it is not possible to turn. This means that at the intersections it is not possible to turn\n",
      "    left or right (4).\n",
      "\n",
      "    The intersections are equipped with traffic lights for traffic control (5). Each edge must turn green once during the phase cycle\n",
      "    and each phase is followed by a corresponding yellow phase and a red phase of at least 3\n",
      "    seconds each (6). In total, each traffic light must have a cycle time of 120 seconds (7).\n",
      "\n",
      "    Further define a traffic demand of a total of 50 vehicles. A vehicle should start every 2 seconds in the simulation (8). The vehicles should\n",
      "    start alternately at the outer edges of the traffic network in a clockwise direction (9).\n",
      "\n",
      "    Then enable the simulation of the traffic demand within the traffic network using a\n",
      "    SUMO config file (10).\n",
      "\n",
      "    To determine the macroscopic traffic size - average vehicles per edge - continue to create a\n",
      "    Python script that conducts the simulation (11).\n",
      "    Use traci within the script to determine the macroscopic traffic size\n",
      "    - average vehicles per edge - during the simulation (12). Use this Jupyter Notebook and the already prepared next cell for this.\n",
      "\n",
      "\n",
      "     \n"
     ]
    }
   ],
   "source": [
    "from aufg import *\n",
    "\n",
    "Name = 'Max Mustermann' \n",
    "Matrikelnummer = 123\n",
    "\n",
    "generate_aufgabe(Matrikelnummer)"
   ]
  },
  {
   "cell_type": "code",
   "execution_count": 2,
   "metadata": {},
   "outputs": [
    {
     "name": "stdout",
     "output_type": "stream",
     "text": [
      "Requirement already satisfied: traci in c:\\users\\gerner\\anaconda3\\lib\\site-packages (1.11.0)\n",
      "Requirement already satisfied: sumolib>=1.11.0 in c:\\users\\gerner\\anaconda3\\lib\\site-packages (from traci) (1.11.0)\n"
     ]
    }
   ],
   "source": [
    "!pip install traci"
   ]
  },
  {
   "cell_type": "code",
   "execution_count": 3,
   "metadata": {},
   "outputs": [
    {
     "name": "stdout",
     "output_type": "stream",
     "text": [
      " Retrying in 1 seconds\n",
      "Could not connect to TraCI server at localhost:54830 [WinError 10061] Es konnte keine Verbindung hergestellt werden, da der Zielcomputer die Verbindung verweigerte\n",
      " Retrying in 1 seconds\n",
      "Could not connect to TraCI server at localhost:54830 [WinError 10061] Es konnte keine Verbindung hergestellt werden, da der Zielcomputer die Verbindung verweigerte\n",
      " Retrying in 1 seconds\n",
      "Could not connect to TraCI server at localhost:54830 [WinError 10061] Es konnte keine Verbindung hergestellt werden, da der Zielcomputer die Verbindung verweigerte\n",
      " Retrying in 1 seconds\n",
      "Could not connect to TraCI server at localhost:54830 [WinError 10061] Es konnte keine Verbindung hergestellt werden, da der Zielcomputer die Verbindung verweigerte\n",
      " Retrying in 1 seconds\n",
      "Could not connect to TraCI server at localhost:54830 [WinError 10061] Es konnte keine Verbindung hergestellt werden, da der Zielcomputer die Verbindung verweigerte\n",
      " Retrying in 1 seconds\n",
      "Could not connect to TraCI server at localhost:54830 [WinError 10061] Es konnte keine Verbindung hergestellt werden, da der Zielcomputer die Verbindung verweigerte\n",
      " Retrying in 1 seconds\n",
      "Could not connect to TraCI server at localhost:54830 [WinError 10061] Es konnte keine Verbindung hergestellt werden, da der Zielcomputer die Verbindung verweigerte\n",
      " Retrying in 1 seconds\n",
      "Could not connect to TraCI server at localhost:54830 [WinError 10061] Es konnte keine Verbindung hergestellt werden, da der Zielcomputer die Verbindung verweigerte\n",
      " Retrying in 1 seconds\n",
      "Could not connect to TraCI server at localhost:54830 [WinError 10061] Es konnte keine Verbindung hergestellt werden, da der Zielcomputer die Verbindung verweigerte\n",
      " Retrying in 1 seconds\n",
      "Could not connect to TraCI server at localhost:54830 [WinError 10061] Es konnte keine Verbindung hergestellt werden, da der Zielcomputer die Verbindung verweigerte\n",
      " Retrying in 1 seconds\n",
      "Could not connect to TraCI server at localhost:54830 [WinError 10061] Es konnte keine Verbindung hergestellt werden, da der Zielcomputer die Verbindung verweigerte\n",
      " Retrying in 1 seconds\n",
      "Could not connect to TraCI server at localhost:54830 [WinError 10061] Es konnte keine Verbindung hergestellt werden, da der Zielcomputer die Verbindung verweigerte\n",
      " Retrying in 1 seconds\n",
      "Could not connect to TraCI server at localhost:54830 [WinError 10061] Es konnte keine Verbindung hergestellt werden, da der Zielcomputer die Verbindung verweigerte\n",
      " Retrying in 1 seconds\n",
      "Could not connect to TraCI server at localhost:54830 [WinError 10061] Es konnte keine Verbindung hergestellt werden, da der Zielcomputer die Verbindung verweigerte\n",
      " Retrying in 1 seconds\n",
      "Could not connect to TraCI server at localhost:54830 [WinError 10061] Es konnte keine Verbindung hergestellt werden, da der Zielcomputer die Verbindung verweigerte\n",
      " Retrying in 1 seconds\n",
      "Could not connect to TraCI server at localhost:54830 [WinError 10061] Es konnte keine Verbindung hergestellt werden, da der Zielcomputer die Verbindung verweigerte\n",
      " Retrying in 1 seconds\n",
      "Could not connect to TraCI server at localhost:54830 [WinError 10061] Es konnte keine Verbindung hergestellt werden, da der Zielcomputer die Verbindung verweigerte\n",
      " Retrying in 1 seconds\n",
      "Could not connect to TraCI server at localhost:54830 [WinError 10061] Es konnte keine Verbindung hergestellt werden, da der Zielcomputer die Verbindung verweigerte\n",
      " Retrying in 1 seconds\n",
      "Could not connect to TraCI server at localhost:54830 [WinError 10061] Es konnte keine Verbindung hergestellt werden, da der Zielcomputer die Verbindung verweigerte\n",
      " Retrying in 1 seconds\n",
      "Could not connect to TraCI server at localhost:54830 [WinError 10061] Es konnte keine Verbindung hergestellt werden, da der Zielcomputer die Verbindung verweigerte\n",
      " Retrying in 1 seconds\n",
      "Could not connect to TraCI server at localhost:54830 [WinError 10061] Es konnte keine Verbindung hergestellt werden, da der Zielcomputer die Verbindung verweigerte\n",
      " Retrying in 1 seconds\n",
      "Could not connect to TraCI server at localhost:54830 [WinError 10061] Es konnte keine Verbindung hergestellt werden, da der Zielcomputer die Verbindung verweigerte\n",
      " Retrying in 1 seconds\n",
      "Could not connect to TraCI server at localhost:54830 [WinError 10061] Es konnte keine Verbindung hergestellt werden, da der Zielcomputer die Verbindung verweigerte\n",
      " Retrying in 1 seconds\n",
      "Could not connect to TraCI server at localhost:54830 [WinError 10061] Es konnte keine Verbindung hergestellt werden, da der Zielcomputer die Verbindung verweigerte\n",
      " Retrying in 1 seconds\n",
      "Could not connect to TraCI server at localhost:54830 [WinError 10061] Es konnte keine Verbindung hergestellt werden, da der Zielcomputer die Verbindung verweigerte\n",
      " Retrying in 1 seconds\n",
      "Could not connect to TraCI server at localhost:54830 [WinError 10061] Es konnte keine Verbindung hergestellt werden, da der Zielcomputer die Verbindung verweigerte\n",
      " Retrying in 1 seconds\n",
      "Could not connect to TraCI server at localhost:54830 [WinError 10061] Es konnte keine Verbindung hergestellt werden, da der Zielcomputer die Verbindung verweigerte\n",
      " Retrying in 1 seconds\n",
      "Could not connect to TraCI server at localhost:54830 [WinError 10061] Es konnte keine Verbindung hergestellt werden, da der Zielcomputer die Verbindung verweigerte\n",
      " Retrying in 1 seconds\n",
      "Could not connect to TraCI server at localhost:54830 [WinError 10061] Es konnte keine Verbindung hergestellt werden, da der Zielcomputer die Verbindung verweigerte\n",
      " Retrying in 1 seconds\n",
      "Could not connect to TraCI server at localhost:54830 [WinError 10061] Es konnte keine Verbindung hergestellt werden, da der Zielcomputer die Verbindung verweigerte\n",
      " Retrying in 1 seconds\n",
      "Could not connect to TraCI server at localhost:54830 [WinError 10061] Es konnte keine Verbindung hergestellt werden, da der Zielcomputer die Verbindung verweigerte\n",
      " Retrying in 1 seconds\n",
      "Could not connect to TraCI server at localhost:54830 [WinError 10061] Es konnte keine Verbindung hergestellt werden, da der Zielcomputer die Verbindung verweigerte\n",
      " Retrying in 1 seconds\n",
      "Could not connect to TraCI server at localhost:54830 [WinError 10061] Es konnte keine Verbindung hergestellt werden, da der Zielcomputer die Verbindung verweigerte\n",
      " Retrying in 1 seconds\n",
      "Could not connect to TraCI server at localhost:54830 [WinError 10061] Es konnte keine Verbindung hergestellt werden, da der Zielcomputer die Verbindung verweigerte\n",
      " Retrying in 1 seconds\n",
      "Could not connect to TraCI server at localhost:54830 [WinError 10061] Es konnte keine Verbindung hergestellt werden, da der Zielcomputer die Verbindung verweigerte\n",
      " Retrying in 1 seconds\n",
      "Could not connect to TraCI server at localhost:54830 [WinError 10061] Es konnte keine Verbindung hergestellt werden, da der Zielcomputer die Verbindung verweigerte\n",
      " Retrying in 1 seconds\n",
      "Could not connect to TraCI server at localhost:54830 [WinError 10061] Es konnte keine Verbindung hergestellt werden, da der Zielcomputer die Verbindung verweigerte\n",
      " Retrying in 1 seconds\n",
      "Could not connect to TraCI server at localhost:54830 [WinError 10061] Es konnte keine Verbindung hergestellt werden, da der Zielcomputer die Verbindung verweigerte\n",
      " Retrying in 1 seconds\n",
      "Could not connect to TraCI server at localhost:54830 [WinError 10061] Es konnte keine Verbindung hergestellt werden, da der Zielcomputer die Verbindung verweigerte\n",
      " Retrying in 1 seconds\n",
      "Could not connect to TraCI server at localhost:54830 [WinError 10061] Es konnte keine Verbindung hergestellt werden, da der Zielcomputer die Verbindung verweigerte\n",
      " Retrying in 1 seconds\n",
      "Could not connect to TraCI server at localhost:54830 [WinError 10061] Es konnte keine Verbindung hergestellt werden, da der Zielcomputer die Verbindung verweigerte\n",
      " Retrying in 1 seconds\n",
      "Could not connect to TraCI server at localhost:54830 [WinError 10061] Es konnte keine Verbindung hergestellt werden, da der Zielcomputer die Verbindung verweigerte\n",
      " Retrying in 1 seconds\n",
      "Could not connect to TraCI server at localhost:54830 [WinError 10061] Es konnte keine Verbindung hergestellt werden, da der Zielcomputer die Verbindung verweigerte\n",
      " Retrying in 1 seconds\n",
      "Could not connect to TraCI server at localhost:54830 [WinError 10061] Es konnte keine Verbindung hergestellt werden, da der Zielcomputer die Verbindung verweigerte\n",
      " Retrying in 1 seconds\n"
     ]
    },
    {
     "name": "stdout",
     "output_type": "stream",
     "text": [
      "Could not connect to TraCI server at localhost:54830 [WinError 10061] Es konnte keine Verbindung hergestellt werden, da der Zielcomputer die Verbindung verweigerte\n",
      " Retrying in 1 seconds\n",
      "Could not connect to TraCI server at localhost:54830 [WinError 10061] Es konnte keine Verbindung hergestellt werden, da der Zielcomputer die Verbindung verweigerte\n",
      " Retrying in 1 seconds\n",
      "Could not connect to TraCI server at localhost:54830 [WinError 10061] Es konnte keine Verbindung hergestellt werden, da der Zielcomputer die Verbindung verweigerte\n",
      " Retrying in 1 seconds\n",
      "Could not connect to TraCI server at localhost:54830 [WinError 10061] Es konnte keine Verbindung hergestellt werden, da der Zielcomputer die Verbindung verweigerte\n",
      " Retrying in 1 seconds\n",
      "Could not connect to TraCI server at localhost:54830 [WinError 10061] Es konnte keine Verbindung hergestellt werden, da der Zielcomputer die Verbindung verweigerte\n",
      " Retrying in 1 seconds\n",
      "Could not connect to TraCI server at localhost:54830 [WinError 10061] Es konnte keine Verbindung hergestellt werden, da der Zielcomputer die Verbindung verweigerte\n",
      " Retrying in 1 seconds\n",
      "Could not connect to TraCI server at localhost:54830 [WinError 10061] Es konnte keine Verbindung hergestellt werden, da der Zielcomputer die Verbindung verweigerte\n",
      " Retrying in 1 seconds\n",
      "Could not connect to TraCI server at localhost:54830 [WinError 10061] Es konnte keine Verbindung hergestellt werden, da der Zielcomputer die Verbindung verweigerte\n",
      " Retrying in 1 seconds\n",
      "Could not connect to TraCI server at localhost:54830 [WinError 10061] Es konnte keine Verbindung hergestellt werden, da der Zielcomputer die Verbindung verweigerte\n",
      " Retrying in 1 seconds\n",
      "Could not connect to TraCI server at localhost:54830 [WinError 10061] Es konnte keine Verbindung hergestellt werden, da der Zielcomputer die Verbindung verweigerte\n",
      " Retrying in 1 seconds\n",
      "Could not connect to TraCI server at localhost:54830 [WinError 10061] Es konnte keine Verbindung hergestellt werden, da der Zielcomputer die Verbindung verweigerte\n",
      " Retrying in 1 seconds\n",
      "Could not connect to TraCI server at localhost:54830 [WinError 10061] Es konnte keine Verbindung hergestellt werden, da der Zielcomputer die Verbindung verweigerte\n",
      " Retrying in 1 seconds\n",
      "Could not connect to TraCI server at localhost:54830 [WinError 10061] Es konnte keine Verbindung hergestellt werden, da der Zielcomputer die Verbindung verweigerte\n",
      " Retrying in 1 seconds\n",
      "Could not connect to TraCI server at localhost:54830 [WinError 10061] Es konnte keine Verbindung hergestellt werden, da der Zielcomputer die Verbindung verweigerte\n",
      " Retrying in 1 seconds\n",
      "Could not connect to TraCI server at localhost:54830 [WinError 10061] Es konnte keine Verbindung hergestellt werden, da der Zielcomputer die Verbindung verweigerte\n",
      " Retrying in 1 seconds\n",
      "Could not connect to TraCI server at localhost:54830 [WinError 10061] Es konnte keine Verbindung hergestellt werden, da der Zielcomputer die Verbindung verweigerte\n"
     ]
    },
    {
     "ename": "FatalTraCIError",
     "evalue": "Could not connect in 61 tries",
     "output_type": "error",
     "traceback": [
      "\u001b[1;31m---------------------------------------------------------------------------\u001b[0m",
      "\u001b[1;31mFatalTraCIError\u001b[0m                           Traceback (most recent call last)",
      "\u001b[1;32m<ipython-input-3-b277f1ebc6b2>\u001b[0m in \u001b[0;36m<module>\u001b[1;34m\u001b[0m\n\u001b[0;32m     17\u001b[0m \u001b[1;32mif\u001b[0m \u001b[0m__name__\u001b[0m \u001b[1;33m==\u001b[0m \u001b[1;34m\"__main__\"\u001b[0m\u001b[1;33m:\u001b[0m\u001b[1;33m\u001b[0m\u001b[1;33m\u001b[0m\u001b[0m\n\u001b[0;32m     18\u001b[0m     \u001b[0msumoBinary\u001b[0m \u001b[1;33m=\u001b[0m \u001b[0mcheckBinary\u001b[0m\u001b[1;33m(\u001b[0m\u001b[1;34m'sumo-gui'\u001b[0m\u001b[1;33m)\u001b[0m\u001b[1;33m\u001b[0m\u001b[1;33m\u001b[0m\u001b[0m\n\u001b[1;32m---> 19\u001b[1;33m     \u001b[0mtraci\u001b[0m\u001b[1;33m.\u001b[0m\u001b[0mstart\u001b[0m\u001b[1;33m(\u001b[0m\u001b[1;33m[\u001b[0m\u001b[0msumoBinary\u001b[0m\u001b[1;33m,\u001b[0m \u001b[1;34m\"-c\"\u001b[0m\u001b[1;33m,\u001b[0m \u001b[1;34m\"sumo_config.sumocfg\"\u001b[0m\u001b[1;33m]\u001b[0m\u001b[1;33m)\u001b[0m \u001b[1;31m#Restart Kernel if you get an error here\u001b[0m\u001b[1;33m\u001b[0m\u001b[1;33m\u001b[0m\u001b[0m\n\u001b[0m\u001b[0;32m     20\u001b[0m \u001b[1;33m\u001b[0m\u001b[0m\n\u001b[0;32m     21\u001b[0m     \u001b[0mrun\u001b[0m\u001b[1;33m(\u001b[0m\u001b[1;33m)\u001b[0m\u001b[1;33m\u001b[0m\u001b[1;33m\u001b[0m\u001b[0m\n",
      "\u001b[1;32mC:\\Program Files (x86)\\Eclipse\\Sumo\\tools\\traci\\main.py\u001b[0m in \u001b[0;36mstart\u001b[1;34m(cmd, port, numRetries, label, verbose, traceFile, traceGetters, stdout, doSwitch)\u001b[0m\n\u001b[0;32m    145\u001b[0m         \u001b[0msumoProcess\u001b[0m \u001b[1;33m=\u001b[0m \u001b[0msubprocess\u001b[0m\u001b[1;33m.\u001b[0m\u001b[0mPopen\u001b[0m\u001b[1;33m(\u001b[0m\u001b[0mcmd2\u001b[0m\u001b[1;33m,\u001b[0m \u001b[0mstdout\u001b[0m\u001b[1;33m=\u001b[0m\u001b[0mstdout\u001b[0m\u001b[1;33m)\u001b[0m\u001b[1;33m\u001b[0m\u001b[1;33m\u001b[0m\u001b[0m\n\u001b[0;32m    146\u001b[0m         \u001b[1;32mtry\u001b[0m\u001b[1;33m:\u001b[0m\u001b[1;33m\u001b[0m\u001b[1;33m\u001b[0m\u001b[0m\n\u001b[1;32m--> 147\u001b[1;33m             \u001b[0mresult\u001b[0m \u001b[1;33m=\u001b[0m \u001b[0minit\u001b[0m\u001b[1;33m(\u001b[0m\u001b[0msumoPort\u001b[0m\u001b[1;33m,\u001b[0m \u001b[0mnumRetries\u001b[0m\u001b[1;33m,\u001b[0m \u001b[1;34m\"localhost\"\u001b[0m\u001b[1;33m,\u001b[0m \u001b[0mlabel\u001b[0m\u001b[1;33m,\u001b[0m \u001b[0msumoProcess\u001b[0m\u001b[1;33m,\u001b[0m \u001b[0mdoSwitch\u001b[0m\u001b[1;33m,\u001b[0m \u001b[0mtraceFile\u001b[0m\u001b[1;33m,\u001b[0m \u001b[0mtraceGetters\u001b[0m\u001b[1;33m)\u001b[0m\u001b[1;33m\u001b[0m\u001b[1;33m\u001b[0m\u001b[0m\n\u001b[0m\u001b[0;32m    148\u001b[0m             \u001b[1;32mif\u001b[0m \u001b[0mtraceFile\u001b[0m \u001b[1;32mis\u001b[0m \u001b[1;32mnot\u001b[0m \u001b[1;32mNone\u001b[0m\u001b[1;33m:\u001b[0m\u001b[1;33m\u001b[0m\u001b[1;33m\u001b[0m\u001b[0m\n\u001b[0;32m    149\u001b[0m                 \u001b[0mconnection\u001b[0m\u001b[1;33m.\u001b[0m\u001b[0mget\u001b[0m\u001b[1;33m(\u001b[0m\u001b[0mlabel\u001b[0m\u001b[1;33m)\u001b[0m\u001b[1;33m.\u001b[0m\u001b[0mwrite\u001b[0m\u001b[1;33m(\u001b[0m\u001b[1;34m\"start\"\u001b[0m\u001b[1;33m,\u001b[0m \u001b[1;34m\"%s, port=%s, label=%s\"\u001b[0m \u001b[1;33m%\u001b[0m \u001b[1;33m(\u001b[0m\u001b[0mrepr\u001b[0m\u001b[1;33m(\u001b[0m\u001b[0mcmd\u001b[0m\u001b[1;33m)\u001b[0m\u001b[1;33m,\u001b[0m \u001b[0mrepr\u001b[0m\u001b[1;33m(\u001b[0m\u001b[0mport\u001b[0m\u001b[1;33m)\u001b[0m\u001b[1;33m,\u001b[0m \u001b[0mrepr\u001b[0m\u001b[1;33m(\u001b[0m\u001b[0mlabel\u001b[0m\u001b[1;33m)\u001b[0m\u001b[1;33m)\u001b[0m\u001b[1;33m)\u001b[0m\u001b[1;33m\u001b[0m\u001b[1;33m\u001b[0m\u001b[0m\n",
      "\u001b[1;32mC:\\Program Files (x86)\\Eclipse\\Sumo\\tools\\traci\\main.py\u001b[0m in \u001b[0;36minit\u001b[1;34m(port, numRetries, host, label, proc, doSwitch, traceFile, traceGetters)\u001b[0m\n\u001b[0;32m    114\u001b[0m     \u001b[0mpool\u001b[0m \u001b[0mconcurrently\u001b[0m\u001b[1;33m.\u001b[0m\u001b[1;33m\u001b[0m\u001b[1;33m\u001b[0m\u001b[0m\n\u001b[0;32m    115\u001b[0m     \"\"\"\n\u001b[1;32m--> 116\u001b[1;33m     \u001b[0mcon\u001b[0m \u001b[1;33m=\u001b[0m \u001b[0mconnect\u001b[0m\u001b[1;33m(\u001b[0m\u001b[0mport\u001b[0m\u001b[1;33m,\u001b[0m \u001b[0mnumRetries\u001b[0m\u001b[1;33m,\u001b[0m \u001b[0mhost\u001b[0m\u001b[1;33m,\u001b[0m \u001b[0mproc\u001b[0m\u001b[1;33m,\u001b[0m \u001b[1;36m1\u001b[0m\u001b[1;33m,\u001b[0m \u001b[0mtraceFile\u001b[0m\u001b[1;33m,\u001b[0m \u001b[0mtraceGetters\u001b[0m\u001b[1;33m,\u001b[0m \u001b[0mlabel\u001b[0m\u001b[1;33m)\u001b[0m\u001b[1;33m\u001b[0m\u001b[1;33m\u001b[0m\u001b[0m\n\u001b[0m\u001b[0;32m    117\u001b[0m     \u001b[1;32mif\u001b[0m \u001b[0mdoSwitch\u001b[0m\u001b[1;33m:\u001b[0m\u001b[1;33m\u001b[0m\u001b[1;33m\u001b[0m\u001b[0m\n\u001b[0;32m    118\u001b[0m         \u001b[0mswitch\u001b[0m\u001b[1;33m(\u001b[0m\u001b[0mlabel\u001b[0m\u001b[1;33m)\u001b[0m\u001b[1;33m\u001b[0m\u001b[1;33m\u001b[0m\u001b[0m\n",
      "\u001b[1;32mC:\\Program Files (x86)\\Eclipse\\Sumo\\tools\\traci\\main.py\u001b[0m in \u001b[0;36mconnect\u001b[1;34m(port, numRetries, host, proc, waitBetweenRetries, traceFile, traceGetters, label)\u001b[0m\n\u001b[0;32m    104\u001b[0m                 \u001b[0mprint\u001b[0m\u001b[1;33m(\u001b[0m\u001b[1;34m\" Retrying in %s seconds\"\u001b[0m \u001b[1;33m%\u001b[0m \u001b[0mwaitBetweenRetries\u001b[0m\u001b[1;33m)\u001b[0m\u001b[1;33m\u001b[0m\u001b[1;33m\u001b[0m\u001b[0m\n\u001b[0;32m    105\u001b[0m                 \u001b[0mtime\u001b[0m\u001b[1;33m.\u001b[0m\u001b[0msleep\u001b[0m\u001b[1;33m(\u001b[0m\u001b[0mwaitBetweenRetries\u001b[0m\u001b[1;33m)\u001b[0m\u001b[1;33m\u001b[0m\u001b[1;33m\u001b[0m\u001b[0m\n\u001b[1;32m--> 106\u001b[1;33m     \u001b[1;32mraise\u001b[0m \u001b[0mFatalTraCIError\u001b[0m\u001b[1;33m(\u001b[0m\u001b[1;34m\"Could not connect in %s tries\"\u001b[0m \u001b[1;33m%\u001b[0m \u001b[1;33m(\u001b[0m\u001b[0mnumRetries\u001b[0m \u001b[1;33m+\u001b[0m \u001b[1;36m1\u001b[0m\u001b[1;33m)\u001b[0m\u001b[1;33m)\u001b[0m\u001b[1;33m\u001b[0m\u001b[1;33m\u001b[0m\u001b[0m\n\u001b[0m\u001b[0;32m    107\u001b[0m \u001b[1;33m\u001b[0m\u001b[0m\n\u001b[0;32m    108\u001b[0m \u001b[1;33m\u001b[0m\u001b[0m\n",
      "\u001b[1;31mFatalTraCIError\u001b[0m: Could not connect in 61 tries"
     ]
    }
   ],
   "source": [
    "from sumolib import checkBinary\n",
    "import os\n",
    "import traci\n",
    "import sys\n",
    "\n",
    "if 'SUMO_HOME' in os.environ:\n",
    "    tools = os.path.join(os.environ['SUMO_HOME'], 'tools')\n",
    "    sys.path.append(tools)\n",
    "else:\n",
    "    sys.exit(\"please declare environment variable 'SUMO_HOME'\")\n",
    "\n",
    "\n",
    "\n",
    "def run():\n",
    "    print('TO IMPLEMENT')\n",
    "\n",
    "if __name__ == \"__main__\":\n",
    "    sumoBinary = checkBinary('sumo-gui')\n",
    "    traci.start([sumoBinary, \"-c\", \"sumo_config.sumocfg\"]) #Restart Kernel if you get an error here\n",
    "        \n",
    "    run()"
   ]
  },
  {
   "cell_type": "code",
   "execution_count": null,
   "metadata": {},
   "outputs": [],
   "source": []
  }
 ],
 "metadata": {
  "kernelspec": {
   "display_name": "Python 3",
   "language": "python",
   "name": "python3"
  },
  "language_info": {
   "codemirror_mode": {
    "name": "ipython",
    "version": 3
   },
   "file_extension": ".py",
   "mimetype": "text/x-python",
   "name": "python",
   "nbconvert_exporter": "python",
   "pygments_lexer": "ipython3",
   "version": "3.8.5"
  }
 },
 "nbformat": 4,
 "nbformat_minor": 4
}
